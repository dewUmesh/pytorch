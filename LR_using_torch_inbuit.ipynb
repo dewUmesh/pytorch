{
  "nbformat": 4,
  "nbformat_minor": 0,
  "metadata": {
    "colab": {
      "provenance": [],
      "authorship_tag": "ABX9TyNHprZW9ps1ZRDX6DZC1wHe",
      "include_colab_link": true
    },
    "kernelspec": {
      "name": "python3",
      "display_name": "Python 3"
    },
    "language_info": {
      "name": "python"
    }
  },
  "cells": [
    {
      "cell_type": "markdown",
      "metadata": {
        "id": "view-in-github",
        "colab_type": "text"
      },
      "source": [
        "<a href=\"https://colab.research.google.com/github/dewUmesh/pytorch/blob/main/LR_using_torch_inbuit.ipynb\" target=\"_parent\"><img src=\"https://colab.research.google.com/assets/colab-badge.svg\" alt=\"Open In Colab\"/></a>"
      ]
    },
    {
      "cell_type": "markdown",
      "source": [
        " we can train the model using the following steps:\n",
        "\n",
        "  1. Generate predictions\n",
        "\n",
        "  2. Calculate the loss\n",
        "\n",
        "  3. Compute gradients w.r.t the weights and biases\n",
        "\n",
        "  4. Adjust the weights by subtracting a small quantity proportional to the gradient\n",
        "\n",
        "  5. Reset the gradients to zero\n"
      ],
      "metadata": {
        "id": "2oxDxddhaG86"
      }
    },
    {
      "cell_type": "code",
      "execution_count": 3,
      "metadata": {
        "id": "NqlV2CQeaEmV"
      },
      "outputs": [],
      "source": [
        "import torch\n",
        "import numpy as np"
      ]
    },
    {
      "cell_type": "markdown",
      "source": [
        "# **Linear regression using pytorch inbuilt fetures**"
      ],
      "metadata": {
        "id": "u5_4oln3VNM3"
      }
    },
    {
      "cell_type": "code",
      "source": [
        "import torch.nn as nn"
      ],
      "metadata": {
        "id": "uSbsgAm2VMNP"
      },
      "execution_count": 4,
      "outputs": []
    },
    {
      "cell_type": "code",
      "source": [
        "# input features (temp,rainfall,humidity)\n",
        "input = np.array([\n",
        "                   [73, 67, 43],\n",
        "                   [91, 88, 64],\n",
        "                   [87, 134, 58],\n",
        "                   [102, 43, 37],\n",
        "                   [69, 96, 70],\n",
        "                   [74, 66, 43],\n",
        "                   [91, 87, 65],\n",
        "                   [88, 134, 59],\n",
        "                   [101, 44, 37],\n",
        "                   [68, 96, 71],\n",
        "                   [73, 66, 44],\n",
        "                   [92, 87, 64],\n",
        "                   [87, 135, 57],\n",
        "                   [103, 43, 36],\n",
        "                   [68, 97, 70]\n",
        "],dtype = 'float32')"
      ],
      "metadata": {
        "id": "Zwgmqnl_WfJp"
      },
      "execution_count": 5,
      "outputs": []
    },
    {
      "cell_type": "code",
      "source": [
        "# input targets\n",
        "targets = np.array ([\n",
        "                   [56, 70],\n",
        "                    [81, 101],\n",
        "                    [119, 133],\n",
        "                    [22, 37],\n",
        "                    [103, 119],\n",
        "                    [57, 69],\n",
        "                    [80, 102],\n",
        "                    [118, 132],\n",
        "                    [21, 38],\n",
        "                    [104, 118],\n",
        "                    [57, 69],\n",
        "                    [82, 100],\n",
        "                    [118, 134],\n",
        "                    [20, 38],\n",
        "                    [102, 120]\n",
        "\n",
        "],dtype = 'float32')"
      ],
      "metadata": {
        "id": "HwX-mNobXAFj"
      },
      "execution_count": 6,
      "outputs": []
    },
    {
      "cell_type": "markdown",
      "source": [
        "Convert numpy to tensor"
      ],
      "metadata": {
        "id": "_OITGYAIZc58"
      }
    },
    {
      "cell_type": "code",
      "source": [
        "input = torch.from_numpy(input)"
      ],
      "metadata": {
        "id": "4IKbH3PHXYw1"
      },
      "execution_count": 7,
      "outputs": []
    },
    {
      "cell_type": "code",
      "source": [
        "targets = torch.from_numpy(targets)"
      ],
      "metadata": {
        "id": "UNzQJ8VpZv2C"
      },
      "execution_count": 8,
      "outputs": []
    },
    {
      "cell_type": "markdown",
      "source": [
        "Use datasets and dataloader, for executing batches"
      ],
      "metadata": {
        "id": "z1JzHvcuaC5o"
      }
    },
    {
      "cell_type": "code",
      "source": [
        "from torch.utils.data import TensorDataset\n",
        "from torch.utils.data import DataLoader"
      ],
      "metadata": {
        "id": "_84f9aEuZ8YA"
      },
      "execution_count": 9,
      "outputs": []
    },
    {
      "cell_type": "code",
      "source": [
        "dataset = TensorDataset(input, targets)\n",
        "print (dataset[0:5])"
      ],
      "metadata": {
        "colab": {
          "base_uri": "https://localhost:8080/"
        },
        "id": "IT1-XYg5zG46",
        "outputId": "449a84ef-b5f1-4b23-d234-1c7ed1dc8b2c"
      },
      "execution_count": 11,
      "outputs": [
        {
          "output_type": "stream",
          "name": "stdout",
          "text": [
            "(tensor([[ 73.,  67.,  43.],\n",
            "        [ 91.,  88.,  64.],\n",
            "        [ 87., 134.,  58.],\n",
            "        [102.,  43.,  37.],\n",
            "        [ 69.,  96.,  70.]]), tensor([[ 56.,  70.],\n",
            "        [ 81., 101.],\n",
            "        [119., 133.],\n",
            "        [ 22.,  37.],\n",
            "        [103., 119.]]))\n"
          ]
        }
      ]
    },
    {
      "cell_type": "code",
      "source": [
        "databatches = DataLoader(dataset,5,shuffle=True)"
      ],
      "metadata": {
        "id": "3vGM9k8-zXwc"
      },
      "execution_count": 42,
      "outputs": []
    },
    {
      "cell_type": "code",
      "source": [
        "for x,y in databatches:\n",
        "  print (f\"x= {x}\")\n",
        "  print (f\"y= {y}\")"
      ],
      "metadata": {
        "colab": {
          "base_uri": "https://localhost:8080/"
        },
        "id": "xk5oM3RDz2bX",
        "outputId": "c609aa32-03fd-497c-e106-8097b27757d2"
      },
      "execution_count": 43,
      "outputs": [
        {
          "output_type": "stream",
          "name": "stdout",
          "text": [
            "x= tensor([[ 73.,  67.,  43.],\n",
            "        [102.,  43.,  37.],\n",
            "        [ 91.,  87.,  65.],\n",
            "        [ 88., 134.,  59.],\n",
            "        [ 68.,  96.,  71.]])\n",
            "y= tensor([[ 56.,  70.],\n",
            "        [ 22.,  37.],\n",
            "        [ 80., 102.],\n",
            "        [118., 132.],\n",
            "        [104., 118.]])\n",
            "x= tensor([[ 74.,  66.,  43.],\n",
            "        [ 91.,  88.,  64.],\n",
            "        [ 69.,  96.,  70.],\n",
            "        [ 73.,  66.,  44.],\n",
            "        [ 87., 134.,  58.]])\n",
            "y= tensor([[ 57.,  69.],\n",
            "        [ 81., 101.],\n",
            "        [103., 119.],\n",
            "        [ 57.,  69.],\n",
            "        [119., 133.]])\n",
            "x= tensor([[103.,  43.,  36.],\n",
            "        [101.,  44.,  37.],\n",
            "        [ 87., 135.,  57.],\n",
            "        [ 68.,  97.,  70.],\n",
            "        [ 92.,  87.,  64.]])\n",
            "y= tensor([[ 20.,  38.],\n",
            "        [ 21.,  38.],\n",
            "        [118., 134.],\n",
            "        [102., 120.],\n",
            "        [ 82., 100.]])\n"
          ]
        }
      ]
    },
    {
      "cell_type": "markdown",
      "source": [
        "1. Declare model\n",
        "\n",
        "2. Predict\n",
        "\n",
        "3. Get Loss\n",
        "\n",
        "4. Optimize"
      ],
      "metadata": {
        "id": "Bb4xMkzU0jsu"
      }
    },
    {
      "cell_type": "code",
      "source": [
        "import torch.nn as nn"
      ],
      "metadata": {
        "id": "6a_wFhpBz8K8"
      },
      "execution_count": 19,
      "outputs": []
    },
    {
      "cell_type": "code",
      "source": [
        "model = nn.Linear(3,2)"
      ],
      "metadata": {
        "id": "yvrDr2Km1H_a"
      },
      "execution_count": 20,
      "outputs": []
    },
    {
      "cell_type": "code",
      "source": [
        "predict = model(input)"
      ],
      "metadata": {
        "id": "c5WurXqp1Qus"
      },
      "execution_count": 33,
      "outputs": []
    },
    {
      "cell_type": "code",
      "source": [
        "print (predict)"
      ],
      "metadata": {
        "colab": {
          "base_uri": "https://localhost:8080/"
        },
        "id": "8JggRW1O3QgW",
        "outputId": "b64787c5-8b88-4ac5-aebd-dda12fb85c21"
      },
      "execution_count": 34,
      "outputs": [
        {
          "output_type": "stream",
          "name": "stdout",
          "text": [
            "tensor([[-41.8512, -23.4280],\n",
            "        [-48.4151, -28.7178],\n",
            "        [-71.3304, -47.0411],\n",
            "        [-47.8442, -18.1777],\n",
            "        [-38.2956, -28.5307],\n",
            "        [-41.8612, -23.1391],\n",
            "        [-47.3869, -28.1332],\n",
            "        [-71.2447, -46.9265],\n",
            "        [-47.8342, -18.4666],\n",
            "        [-37.2574, -28.2351],\n",
            "        [-40.8230, -22.8434],\n",
            "        [-48.4251, -28.4289],\n",
            "        [-72.3586, -47.6257],\n",
            "        [-48.8824, -18.4734],\n",
            "        [-38.2856, -28.8196]], grad_fn=<AddmmBackward0>)\n"
          ]
        }
      ]
    },
    {
      "cell_type": "code",
      "source": [
        "print (list(model.parameters()))\n"
      ],
      "metadata": {
        "colab": {
          "base_uri": "https://localhost:8080/"
        },
        "id": "-0GChugx2mfl",
        "outputId": "4bc6477a-1551-4fbf-f2ee-0b8bd3e83238"
      },
      "execution_count": 28,
      "outputs": [
        {
          "output_type": "stream",
          "name": "stdout",
          "text": [
            "[Parameter containing:\n",
            "tensor([[-0.4763, -0.4663,  0.5619],\n",
            "        [-0.0905, -0.3794,  0.2051]], requires_grad=True), Parameter containing:\n",
            "tensor([-0.0065, -0.2176], requires_grad=True)]\n"
          ]
        }
      ]
    },
    {
      "cell_type": "code",
      "source": [
        "loss = nn.functional.mse_loss(predict,targets)"
      ],
      "metadata": {
        "id": "-ATlj2R21YJ9"
      },
      "execution_count": 31,
      "outputs": []
    },
    {
      "cell_type": "code",
      "source": [
        "print (loss)"
      ],
      "metadata": {
        "colab": {
          "base_uri": "https://localhost:8080/"
        },
        "id": "sTqxzqj21xTI",
        "outputId": "1c96796c-c2c7-4e45-c768-ac426e6c52ee"
      },
      "execution_count": 23,
      "outputs": [
        {
          "output_type": "stream",
          "name": "stdout",
          "text": [
            "tensor(16972.8320, grad_fn=<MseLossBackward0>)\n"
          ]
        }
      ]
    },
    {
      "cell_type": "code",
      "source": [
        "optimize = torch.optim.SGD(model.parameters(), lr = 1e-2)"
      ],
      "metadata": {
        "id": "w4OF3Mvi10iy"
      },
      "execution_count": 32,
      "outputs": []
    },
    {
      "cell_type": "code",
      "source": [
        "print (optimize)"
      ],
      "metadata": {
        "colab": {
          "base_uri": "https://localhost:8080/"
        },
        "id": "X0cxetY42VYb",
        "outputId": "07d97a74-0ebd-447e-ab1c-bf5b48917ee5"
      },
      "execution_count": 25,
      "outputs": [
        {
          "output_type": "stream",
          "name": "stdout",
          "text": [
            "SGD (\n",
            "Parameter Group 0\n",
            "    dampening: 0\n",
            "    differentiable: False\n",
            "    foreach: None\n",
            "    lr: 0.01\n",
            "    maximize: False\n",
            "    momentum: 0\n",
            "    nesterov: False\n",
            "    weight_decay: 0\n",
            ")\n"
          ]
        }
      ]
    },
    {
      "cell_type": "markdown",
      "source": [
        "# **Recursive model training**"
      ],
      "metadata": {
        "id": "yQRQ2b0k3fTd"
      }
    },
    {
      "cell_type": "code",
      "source": [
        "def fit(num_epochs, model, loss_fn, opt, batches):\n",
        "  # repeat for each batch\n",
        "  for epoch in range(num_epochs):\n",
        "\n",
        "    for x,y in batches:\n",
        "      # 1. Predict\n",
        "      prediction = model(x)\n",
        "      # 2. Calculate loss\n",
        "      loss = loss_fn(prediction,y)\n",
        "      # 3. Compute change\n",
        "      loss.backward()\n",
        "      # 4. optimize\n",
        "      opt.step()\n",
        "      # 5. Reset grads\n",
        "      opt.zero_grad()\n",
        "    # print progess\n",
        "    if (epoch+1) % 10 == 0:\n",
        "            print('Epoch [{}/{}], Loss: {:.4f}'.format(epoch+1, num_epochs, loss.item()))"
      ],
      "metadata": {
        "id": "mauvfUVv2fUe"
      },
      "execution_count": 53,
      "outputs": []
    },
    {
      "cell_type": "markdown",
      "source": [
        "# **Call fit**"
      ],
      "metadata": {
        "id": "tUq7rOGr5V1S"
      }
    },
    {
      "cell_type": "code",
      "source": [],
      "metadata": {
        "id": "P1NrpwlG6sC0"
      },
      "execution_count": null,
      "outputs": []
    }
  ]
}