{
  "nbformat": 4,
  "nbformat_minor": 0,
  "metadata": {
    "colab": {
      "provenance": [],
      "authorship_tag": "ABX9TyPoSS81NoL4gaDF4bI8y0Ho",
      "include_colab_link": true
    },
    "kernelspec": {
      "name": "python3",
      "display_name": "Python 3"
    },
    "language_info": {
      "name": "python"
    }
  },
  "cells": [
    {
      "cell_type": "markdown",
      "metadata": {
        "id": "view-in-github",
        "colab_type": "text"
      },
      "source": [
        "<a href=\"https://colab.research.google.com/github/dewUmesh/pytorch/blob/main/LR_using_torch_inbuit.ipynb\" target=\"_parent\"><img src=\"https://colab.research.google.com/assets/colab-badge.svg\" alt=\"Open In Colab\"/></a>"
      ]
    },
    {
      "cell_type": "markdown",
      "source": [
        " we can train the model using the following steps:\n",
        "\n",
        "  1. Generate predictions\n",
        "\n",
        "  2. Calculate the loss\n",
        "\n",
        "  3. Compute gradients w.r.t the weights and biases\n",
        "\n",
        "  4. Adjust the weights by subtracting a small quantity proportional to the gradient\n",
        "\n",
        "  5. Reset the gradients to zero\n"
      ],
      "metadata": {
        "id": "2oxDxddhaG86"
      }
    },
    {
      "cell_type": "code",
      "execution_count": 1,
      "metadata": {
        "id": "NqlV2CQeaEmV"
      },
      "outputs": [],
      "source": [
        "import torch\n",
        "import numpy as np"
      ]
    },
    {
      "cell_type": "markdown",
      "source": [
        "# **Linear regression using pytorch inbuilt fetures**"
      ],
      "metadata": {
        "id": "u5_4oln3VNM3"
      }
    },
    {
      "cell_type": "code",
      "source": [
        "import torch.nn as nn"
      ],
      "metadata": {
        "id": "uSbsgAm2VMNP"
      },
      "execution_count": 2,
      "outputs": []
    },
    {
      "cell_type": "code",
      "source": [
        "# input features (temp,rainfall,humidity)\n",
        "input = np.array([\n",
        "                   [73, 67, 43],\n",
        "                   [91, 88, 64],\n",
        "                   [87, 134, 58],\n",
        "                   [102, 43, 37],\n",
        "                   [69, 96, 70],\n",
        "                   [74, 66, 43],\n",
        "                   [91, 87, 65],\n",
        "                   [88, 134, 59],\n",
        "                   [101, 44, 37],\n",
        "                   [68, 96, 71],\n",
        "                   [73, 66, 44],\n",
        "                   [92, 87, 64],\n",
        "                   [87, 135, 57],\n",
        "                   [103, 43, 36],\n",
        "                   [68, 97, 70]\n",
        "],dtype = 'float32')"
      ],
      "metadata": {
        "id": "Zwgmqnl_WfJp"
      },
      "execution_count": 9,
      "outputs": []
    },
    {
      "cell_type": "code",
      "source": [
        "# input targets\n",
        "targets = np.array ([\n",
        "                   [56, 70],\n",
        "                    [81, 101],\n",
        "                    [119, 133],\n",
        "                    [22, 37],\n",
        "                    [103, 119],\n",
        "                    [57, 69],\n",
        "                    [80, 102],\n",
        "                    [118, 132],\n",
        "                    [21, 38],\n",
        "                    [104, 118],\n",
        "                    [57, 69],\n",
        "                    [82, 100],\n",
        "                    [118, 134],\n",
        "                    [20, 38],\n",
        "                    [102, 120]\n",
        "\n",
        "],dtype = 'float32')"
      ],
      "metadata": {
        "id": "HwX-mNobXAFj"
      },
      "execution_count": 10,
      "outputs": []
    },
    {
      "cell_type": "markdown",
      "source": [
        "Convert numpy to tensor"
      ],
      "metadata": {
        "id": "_OITGYAIZc58"
      }
    },
    {
      "cell_type": "code",
      "source": [
        "input = torch.from_numpy(input)"
      ],
      "metadata": {
        "id": "4IKbH3PHXYw1"
      },
      "execution_count": 11,
      "outputs": []
    },
    {
      "cell_type": "code",
      "source": [
        "targets = torch.from_numpy(targets)"
      ],
      "metadata": {
        "id": "UNzQJ8VpZv2C"
      },
      "execution_count": 12,
      "outputs": []
    },
    {
      "cell_type": "markdown",
      "source": [
        "Use datasets and dataloader, for executing batches"
      ],
      "metadata": {
        "id": "z1JzHvcuaC5o"
      }
    },
    {
      "cell_type": "code",
      "source": [
        "from torch.utils.data import TensorDataset\n",
        "from torch.utils.data import DataLoader"
      ],
      "metadata": {
        "id": "_84f9aEuZ8YA"
      },
      "execution_count": 13,
      "outputs": []
    },
    {
      "cell_type": "code",
      "source": [
        "dataset = TensorDataset(input, targets)\n",
        "print (dataset[0:5])"
      ],
      "metadata": {
        "colab": {
          "base_uri": "https://localhost:8080/"
        },
        "id": "IT1-XYg5zG46",
        "outputId": "9b9b48de-6584-4222-95eb-0c88ade55ff6"
      },
      "execution_count": 14,
      "outputs": [
        {
          "output_type": "stream",
          "name": "stdout",
          "text": [
            "(tensor([[ 73.,  67.,  43.],\n",
            "        [ 91.,  88.,  64.],\n",
            "        [ 87., 134.,  58.],\n",
            "        [102.,  43.,  37.],\n",
            "        [ 69.,  96.,  70.]]), tensor([[ 56.,  70.],\n",
            "        [ 81., 101.],\n",
            "        [119., 133.],\n",
            "        [ 22.,  37.],\n",
            "        [103., 119.]]))\n"
          ]
        }
      ]
    },
    {
      "cell_type": "code",
      "source": [
        "databatches = DataLoader(dataset,5,shuffle=True)"
      ],
      "metadata": {
        "id": "3vGM9k8-zXwc"
      },
      "execution_count": 15,
      "outputs": []
    },
    {
      "cell_type": "code",
      "source": [
        "for x,y in databatches:\n",
        "  print (f\"x= {x}\")\n",
        "  print (f\"y= {y}\")"
      ],
      "metadata": {
        "colab": {
          "base_uri": "https://localhost:8080/"
        },
        "id": "xk5oM3RDz2bX",
        "outputId": "72d72ebc-d7cb-4045-f845-72678de95a3e"
      },
      "execution_count": 16,
      "outputs": [
        {
          "output_type": "stream",
          "name": "stdout",
          "text": [
            "x= tensor([[ 68.,  97.,  70.],\n",
            "        [ 68.,  96.,  71.],\n",
            "        [ 87., 135.,  57.],\n",
            "        [ 73.,  66.,  44.],\n",
            "        [101.,  44.,  37.]])\n",
            "y= tensor([[102., 120.],\n",
            "        [104., 118.],\n",
            "        [118., 134.],\n",
            "        [ 57.,  69.],\n",
            "        [ 21.,  38.]])\n",
            "x= tensor([[103.,  43.,  36.],\n",
            "        [ 88., 134.,  59.],\n",
            "        [ 91.,  88.,  64.],\n",
            "        [ 87., 134.,  58.],\n",
            "        [ 73.,  67.,  43.]])\n",
            "y= tensor([[ 20.,  38.],\n",
            "        [118., 132.],\n",
            "        [ 81., 101.],\n",
            "        [119., 133.],\n",
            "        [ 56.,  70.]])\n",
            "x= tensor([[ 91.,  87.,  65.],\n",
            "        [ 92.,  87.,  64.],\n",
            "        [102.,  43.,  37.],\n",
            "        [ 74.,  66.,  43.],\n",
            "        [ 69.,  96.,  70.]])\n",
            "y= tensor([[ 80., 102.],\n",
            "        [ 82., 100.],\n",
            "        [ 22.,  37.],\n",
            "        [ 57.,  69.],\n",
            "        [103., 119.]])\n"
          ]
        }
      ]
    },
    {
      "cell_type": "markdown",
      "source": [
        "1. Declare model\n",
        "\n",
        "2. Predict\n",
        "\n",
        "3. Get Loss\n",
        "\n",
        "4. Optimize"
      ],
      "metadata": {
        "id": "Bb4xMkzU0jsu"
      }
    },
    {
      "cell_type": "code",
      "source": [
        "import torch.nn as nn"
      ],
      "metadata": {
        "id": "6a_wFhpBz8K8"
      },
      "execution_count": 17,
      "outputs": []
    },
    {
      "cell_type": "code",
      "source": [
        "model = nn.Linear(3,2)"
      ],
      "metadata": {
        "id": "yvrDr2Km1H_a"
      },
      "execution_count": 18,
      "outputs": []
    },
    {
      "cell_type": "code",
      "source": [
        "predict = model(input)"
      ],
      "metadata": {
        "id": "c5WurXqp1Qus"
      },
      "execution_count": 19,
      "outputs": []
    },
    {
      "cell_type": "code",
      "source": [
        "print (predict)"
      ],
      "metadata": {
        "colab": {
          "base_uri": "https://localhost:8080/"
        },
        "id": "8JggRW1O3QgW",
        "outputId": "da5ed117-e5a6-4708-cf7c-2678e0c32f79"
      },
      "execution_count": 20,
      "outputs": [
        {
          "output_type": "stream",
          "name": "stdout",
          "text": [
            "tensor([[ 1.7116e+01,  4.6274e+00],\n",
            "        [ 2.2947e+01,  2.0186e+00],\n",
            "        [-3.1882e+00,  2.2007e+01],\n",
            "        [ 3.9982e+01, -3.4018e-01],\n",
            "        [ 1.1029e+01,  1.2670e+00],\n",
            "        [ 1.8062e+01,  4.2854e+00],\n",
            "        [ 2.3788e+01,  1.1319e+00],\n",
            "        [-2.3634e+00,  2.1518e+01],\n",
            "        [ 3.9036e+01,  1.8307e-03],\n",
            "        [ 1.0924e+01,  7.2229e-01],\n",
            "        [ 1.7957e+01,  3.7407e+00],\n",
            "        [ 2.3893e+01,  1.6766e+00],\n",
            "        [-4.0289e+00,  2.2894e+01],\n",
            "        [ 4.0087e+01,  2.0450e-01],\n",
            "        [ 1.0084e+01,  1.6090e+00]], grad_fn=<AddmmBackward0>)\n"
          ]
        }
      ]
    },
    {
      "cell_type": "code",
      "source": [
        "print (list(model.parameters()))\n"
      ],
      "metadata": {
        "colab": {
          "base_uri": "https://localhost:8080/"
        },
        "id": "-0GChugx2mfl",
        "outputId": "102829dd-a8f6-43bf-828d-ea084778a01a"
      },
      "execution_count": 21,
      "outputs": [
        {
          "output_type": "stream",
          "name": "stdout",
          "text": [
            "[Parameter containing:\n",
            "tensor([[ 0.4650, -0.4808,  0.3599],\n",
            "        [ 0.0275,  0.3695, -0.5172]], requires_grad=True), Parameter containing:\n",
            "tensor([-0.0916,  0.1100], requires_grad=True)]\n"
          ]
        }
      ]
    },
    {
      "cell_type": "code",
      "source": [
        "loss_fn = nn.functional.mse_loss"
      ],
      "metadata": {
        "id": "-ATlj2R21YJ9"
      },
      "execution_count": 24,
      "outputs": []
    },
    {
      "cell_type": "code",
      "source": [
        "loss = loss_fn(predict,targets)"
      ],
      "metadata": {
        "id": "OGxUfMLoZ86j"
      },
      "execution_count": 25,
      "outputs": []
    },
    {
      "cell_type": "code",
      "source": [
        "print (loss)"
      ],
      "metadata": {
        "colab": {
          "base_uri": "https://localhost:8080/"
        },
        "id": "sTqxzqj21xTI",
        "outputId": "e1f54248-689d-4299-ef3f-e63c2f1ff0a7"
      },
      "execution_count": 26,
      "outputs": [
        {
          "output_type": "stream",
          "name": "stdout",
          "text": [
            "tensor(7017.2544, grad_fn=<MseLossBackward0>)\n"
          ]
        }
      ]
    },
    {
      "cell_type": "code",
      "source": [
        "optimize = torch.optim.SGD(model.parameters(), lr = 1e-5)"
      ],
      "metadata": {
        "id": "w4OF3Mvi10iy"
      },
      "execution_count": 27,
      "outputs": []
    },
    {
      "cell_type": "code",
      "source": [
        "print (optimize)"
      ],
      "metadata": {
        "colab": {
          "base_uri": "https://localhost:8080/"
        },
        "id": "X0cxetY42VYb",
        "outputId": "7d541dd6-4d3f-4d21-970a-6964613432f0"
      },
      "execution_count": 28,
      "outputs": [
        {
          "output_type": "stream",
          "name": "stdout",
          "text": [
            "SGD (\n",
            "Parameter Group 0\n",
            "    dampening: 0\n",
            "    differentiable: False\n",
            "    foreach: None\n",
            "    lr: 1e-05\n",
            "    maximize: False\n",
            "    momentum: 0\n",
            "    nesterov: False\n",
            "    weight_decay: 0\n",
            ")\n"
          ]
        }
      ]
    },
    {
      "cell_type": "markdown",
      "source": [
        "# **Recursive model training**"
      ],
      "metadata": {
        "id": "yQRQ2b0k3fTd"
      }
    },
    {
      "cell_type": "code",
      "source": [
        "def fit(num_epochs, model, loss_fn, opt, batches):\n",
        "  # repeat for each batch\n",
        "  for epoch in range(num_epochs):\n",
        "\n",
        "    for x,y in batches:\n",
        "      # 1. Predict\n",
        "      prediction = model(x)\n",
        "      # 2. Calculate loss\n",
        "      loss = loss_fn(prediction,y)\n",
        "      # 3. Compute change\n",
        "      loss.backward()\n",
        "      # 4. optimize\n",
        "      opt.step()\n",
        "      # 5. Reset grads\n",
        "      opt.zero_grad()\n",
        "    # print progess\n",
        "    if (epoch+1) % 10 == 0:\n",
        "            print('Epoch [{}/{}], Loss: {:.4f}'.format(epoch+1, num_epochs, loss.item()))"
      ],
      "metadata": {
        "id": "mauvfUVv2fUe"
      },
      "execution_count": 29,
      "outputs": []
    },
    {
      "cell_type": "markdown",
      "source": [
        "# **Call fit**"
      ],
      "metadata": {
        "id": "tUq7rOGr5V1S"
      }
    },
    {
      "cell_type": "code",
      "source": [
        "fit(1000,model,loss_fn,optimize,databatches)"
      ],
      "metadata": {
        "id": "P1NrpwlG6sC0",
        "outputId": "6bf7bb95-de50-4dfe-cf35-584d1a6b2031",
        "colab": {
          "base_uri": "https://localhost:8080/"
        }
      },
      "execution_count": 31,
      "outputs": [
        {
          "output_type": "stream",
          "name": "stdout",
          "text": [
            "Epoch [10/1000], Loss: 33.1849\n",
            "Epoch [20/1000], Loss: 50.9713\n",
            "Epoch [30/1000], Loss: 45.6299\n",
            "Epoch [40/1000], Loss: 29.9060\n",
            "Epoch [50/1000], Loss: 43.4510\n",
            "Epoch [60/1000], Loss: 39.7935\n",
            "Epoch [70/1000], Loss: 29.9738\n",
            "Epoch [80/1000], Loss: 40.1926\n",
            "Epoch [90/1000], Loss: 27.9469\n",
            "Epoch [100/1000], Loss: 8.3126\n",
            "Epoch [110/1000], Loss: 22.8240\n",
            "Epoch [120/1000], Loss: 15.7556\n",
            "Epoch [130/1000], Loss: 12.3098\n",
            "Epoch [140/1000], Loss: 3.8013\n",
            "Epoch [150/1000], Loss: 13.7941\n",
            "Epoch [160/1000], Loss: 11.0548\n",
            "Epoch [170/1000], Loss: 8.0600\n",
            "Epoch [180/1000], Loss: 16.2486\n",
            "Epoch [190/1000], Loss: 12.4484\n",
            "Epoch [200/1000], Loss: 6.2869\n",
            "Epoch [210/1000], Loss: 15.7615\n",
            "Epoch [220/1000], Loss: 15.7423\n",
            "Epoch [230/1000], Loss: 5.9136\n",
            "Epoch [240/1000], Loss: 12.4852\n",
            "Epoch [250/1000], Loss: 10.7917\n",
            "Epoch [260/1000], Loss: 9.9095\n",
            "Epoch [270/1000], Loss: 5.6005\n",
            "Epoch [280/1000], Loss: 9.7398\n",
            "Epoch [290/1000], Loss: 12.5065\n",
            "Epoch [300/1000], Loss: 5.3010\n",
            "Epoch [310/1000], Loss: 5.3474\n",
            "Epoch [320/1000], Loss: 6.6781\n",
            "Epoch [330/1000], Loss: 5.5053\n",
            "Epoch [340/1000], Loss: 6.3154\n",
            "Epoch [350/1000], Loss: 6.0974\n",
            "Epoch [360/1000], Loss: 5.1209\n",
            "Epoch [370/1000], Loss: 5.7261\n",
            "Epoch [380/1000], Loss: 5.6035\n",
            "Epoch [390/1000], Loss: 5.8935\n",
            "Epoch [400/1000], Loss: 5.1024\n",
            "Epoch [410/1000], Loss: 2.2703\n",
            "Epoch [420/1000], Loss: 3.2217\n",
            "Epoch [430/1000], Loss: 4.9163\n",
            "Epoch [440/1000], Loss: 2.6470\n",
            "Epoch [450/1000], Loss: 3.5361\n",
            "Epoch [460/1000], Loss: 2.6805\n",
            "Epoch [470/1000], Loss: 2.4692\n",
            "Epoch [480/1000], Loss: 3.7222\n",
            "Epoch [490/1000], Loss: 2.9625\n",
            "Epoch [500/1000], Loss: 4.4324\n",
            "Epoch [510/1000], Loss: 3.5101\n",
            "Epoch [520/1000], Loss: 2.4655\n",
            "Epoch [530/1000], Loss: 3.7315\n",
            "Epoch [540/1000], Loss: 3.0393\n",
            "Epoch [550/1000], Loss: 2.1150\n",
            "Epoch [560/1000], Loss: 1.7085\n",
            "Epoch [570/1000], Loss: 1.6413\n",
            "Epoch [580/1000], Loss: 2.1105\n",
            "Epoch [590/1000], Loss: 2.6016\n",
            "Epoch [600/1000], Loss: 2.7085\n",
            "Epoch [610/1000], Loss: 4.1724\n",
            "Epoch [620/1000], Loss: 2.4512\n",
            "Epoch [630/1000], Loss: 2.8709\n",
            "Epoch [640/1000], Loss: 1.9167\n",
            "Epoch [650/1000], Loss: 1.7790\n",
            "Epoch [660/1000], Loss: 0.9404\n",
            "Epoch [670/1000], Loss: 2.1028\n",
            "Epoch [680/1000], Loss: 1.8082\n",
            "Epoch [690/1000], Loss: 1.5293\n",
            "Epoch [700/1000], Loss: 1.7448\n",
            "Epoch [710/1000], Loss: 1.9195\n",
            "Epoch [720/1000], Loss: 0.8983\n",
            "Epoch [730/1000], Loss: 1.4343\n",
            "Epoch [740/1000], Loss: 1.7971\n",
            "Epoch [750/1000], Loss: 1.8459\n",
            "Epoch [760/1000], Loss: 1.7277\n",
            "Epoch [770/1000], Loss: 1.5562\n",
            "Epoch [780/1000], Loss: 0.7283\n",
            "Epoch [790/1000], Loss: 1.7379\n",
            "Epoch [800/1000], Loss: 1.4960\n",
            "Epoch [810/1000], Loss: 1.3594\n",
            "Epoch [820/1000], Loss: 1.5326\n",
            "Epoch [830/1000], Loss: 2.0030\n",
            "Epoch [840/1000], Loss: 1.0331\n",
            "Epoch [850/1000], Loss: 1.0003\n",
            "Epoch [860/1000], Loss: 1.3425\n",
            "Epoch [870/1000], Loss: 1.2663\n",
            "Epoch [880/1000], Loss: 1.0114\n",
            "Epoch [890/1000], Loss: 0.9246\n",
            "Epoch [900/1000], Loss: 1.7444\n",
            "Epoch [910/1000], Loss: 1.8363\n",
            "Epoch [920/1000], Loss: 1.4071\n",
            "Epoch [930/1000], Loss: 0.8543\n",
            "Epoch [940/1000], Loss: 1.5890\n",
            "Epoch [950/1000], Loss: 1.3657\n",
            "Epoch [960/1000], Loss: 0.8874\n",
            "Epoch [970/1000], Loss: 0.9642\n",
            "Epoch [980/1000], Loss: 1.0464\n",
            "Epoch [990/1000], Loss: 0.8370\n",
            "Epoch [1000/1000], Loss: 0.8959\n"
          ]
        }
      ]
    },
    {
      "cell_type": "markdown",
      "source": [
        "# **Test predictions using trained model**"
      ],
      "metadata": {
        "id": "h0nWcAmDbTJW"
      }
    },
    {
      "cell_type": "code",
      "source": [
        "test_predictions = model(input)\n",
        "print (test_predictions)"
      ],
      "metadata": {
        "id": "5D6-dkpvbYoc",
        "outputId": "54d1e1c7-babc-4a51-f537-995173dd94c3",
        "colab": {
          "base_uri": "https://localhost:8080/"
        }
      },
      "execution_count": 32,
      "outputs": [
        {
          "output_type": "stream",
          "name": "stdout",
          "text": [
            "tensor([[ 56.9740,  70.4569],\n",
            "        [ 82.0959, 100.2398],\n",
            "        [118.2530, 133.4261],\n",
            "        [ 20.8594,  37.9265],\n",
            "        [101.9104, 117.9000],\n",
            "        [ 55.7283,  69.3713],\n",
            "        [ 81.9536, 100.2801],\n",
            "        [118.5494, 133.9968],\n",
            "        [ 22.1052,  39.0120],\n",
            "        [103.0138, 119.0258],\n",
            "        [ 56.8317,  70.4972],\n",
            "        [ 80.8502,  99.1543],\n",
            "        [118.3953, 133.3858],\n",
            "        [ 19.7560,  36.8006],\n",
            "        [103.1561, 118.9855]], grad_fn=<AddmmBackward0>)\n"
          ]
        }
      ]
    },
    {
      "cell_type": "code",
      "source": [
        "# Actual targets\n",
        "print(targets)"
      ],
      "metadata": {
        "id": "OG_1dOXnbnke",
        "outputId": "b04932ad-88aa-4076-9deb-82fcc51418d7",
        "colab": {
          "base_uri": "https://localhost:8080/"
        }
      },
      "execution_count": 33,
      "outputs": [
        {
          "output_type": "stream",
          "name": "stdout",
          "text": [
            "tensor([[ 56.,  70.],\n",
            "        [ 81., 101.],\n",
            "        [119., 133.],\n",
            "        [ 22.,  37.],\n",
            "        [103., 119.],\n",
            "        [ 57.,  69.],\n",
            "        [ 80., 102.],\n",
            "        [118., 132.],\n",
            "        [ 21.,  38.],\n",
            "        [104., 118.],\n",
            "        [ 57.,  69.],\n",
            "        [ 82., 100.],\n",
            "        [118., 134.],\n",
            "        [ 20.,  38.],\n",
            "        [102., 120.]])\n"
          ]
        }
      ]
    },
    {
      "cell_type": "code",
      "source": [
        "# Difference between two matrix is\n",
        "with torch.no_grad():\n",
        "  print (test_predictions - targets)"
      ],
      "metadata": {
        "id": "JM8W7W7ybyhw",
        "outputId": "cf978c64-cc92-4bc3-c193-97a39bba5b17",
        "colab": {
          "base_uri": "https://localhost:8080/"
        }
      },
      "execution_count": 34,
      "outputs": [
        {
          "output_type": "stream",
          "name": "stdout",
          "text": [
            "tensor([[ 0.9740,  0.4569],\n",
            "        [ 1.0959, -0.7602],\n",
            "        [-0.7470,  0.4261],\n",
            "        [-1.1406,  0.9265],\n",
            "        [-1.0896, -1.1000],\n",
            "        [-1.2717,  0.3713],\n",
            "        [ 1.9536, -1.7199],\n",
            "        [ 0.5494,  1.9968],\n",
            "        [ 1.1052,  1.0120],\n",
            "        [-0.9862,  1.0258],\n",
            "        [-0.1683,  1.4972],\n",
            "        [-1.1498, -0.8457],\n",
            "        [ 0.3953, -0.6142],\n",
            "        [-0.2440, -1.1994],\n",
            "        [ 1.1561, -1.0145]])\n"
          ]
        }
      ]
    },
    {
      "cell_type": "markdown",
      "source": [
        "# **Evaluate model**"
      ],
      "metadata": {
        "id": "sMJzXovDbGRg"
      }
    },
    {
      "cell_type": "markdown",
      "source": [
        "**What would be the yield for applie and oranges for new regions with differen temp,rainfall,humidity**"
      ],
      "metadata": {
        "id": "InbwoJv0clRc"
      }
    },
    {
      "cell_type": "code",
      "source": [
        "new_prediction = model(torch.tensor([[75, 63, 44.]]))\n",
        "print (new_prediction)"
      ],
      "metadata": {
        "id": "I9FzY_cMcz2Q",
        "outputId": "abf709aa-0e1b-4fb0-99c5-da9b59490461",
        "colab": {
          "base_uri": "https://localhost:8080/"
        }
      },
      "execution_count": 35,
      "outputs": [
        {
          "output_type": "stream",
          "name": "stdout",
          "text": [
            "tensor([[53.4980, 67.5181]], grad_fn=<AddmmBackward0>)\n"
          ]
        }
      ]
    }
  ]
}