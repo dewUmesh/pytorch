{
  "nbformat": 4,
  "nbformat_minor": 0,
  "metadata": {
    "colab": {
      "provenance": [],
      "authorship_tag": "ABX9TyM+bDZW8WO5daDz47H0qRKe",
      "include_colab_link": true
    },
    "kernelspec": {
      "name": "python3",
      "display_name": "Python 3"
    },
    "language_info": {
      "name": "python"
    }
  },
  "cells": [
    {
      "cell_type": "markdown",
      "metadata": {
        "id": "view-in-github",
        "colab_type": "text"
      },
      "source": [
        "<a href=\"https://colab.research.google.com/github/dewUmesh/pytorch/blob/main/pytorchBeginerBasicTensor.ipynb\" target=\"_parent\"><img src=\"https://colab.research.google.com/assets/colab-badge.svg\" alt=\"Open In Colab\"/></a>"
      ]
    },
    {
      "cell_type": "markdown",
      "source": [
        "PyTorch Basics: Tensors & Gradients\n",
        "Part 1 of \"Pytorch: Zero to GANs\"\n",
        "\n",
        "This post is the first in a series of tutorials on building deep learning models with PyTorch, an open source neural networks library developed and maintained by Facebook. Check out the full series:\n",
        "\n",
        "    PyTorch Basics: Tensors & Gradients\n",
        "    Linear Regression & Gradient Descent\n",
        "    Image Classfication using Logistic Regression\n",
        "    Training Deep Neural Networks on a GPU\n",
        "    Image Classification using Convolutional Neural Networks\n",
        "    Data Augmentation, Regularization and ResNets\n",
        "    Generating Images using Generative Adverserial Networks\n",
        "\n",
        "This series attempts to make PyTorch a bit more approachable for people starting out with deep learning and neural networks. In this notebook, we’ll cover the basic building blocks of PyTorch models: tensors and gradients."
      ],
      "metadata": {
        "id": "AdTnP-74zF7z"
      }
    },
    {
      "cell_type": "code",
      "execution_count": 2,
      "metadata": {
        "id": "yUxRCyK1yxR8"
      },
      "outputs": [],
      "source": [
        "import torch"
      ]
    },
    {
      "cell_type": "markdown",
      "source": [
        "PyTorch is a library for processing tensors.\n",
        "Tensors is number, vector, matrix or an n-dimentional array.\n",
        "\n",
        "Create a tensor with single number"
      ],
      "metadata": {
        "id": "JuX5t1Sc0JIM"
      }
    },
    {
      "cell_type": "code",
      "source": [
        "t=torch.tensor(2.)\n",
        "t"
      ],
      "metadata": {
        "colab": {
          "base_uri": "https://localhost:8080/"
        },
        "id": "HHw3H3kl0deD",
        "outputId": "654a52b8-2461-4c84-ef26-9e9cf402f9dd"
      },
      "execution_count": 5,
      "outputs": [
        {
          "output_type": "execute_result",
          "data": {
            "text/plain": [
              "tensor(2.)"
            ]
          },
          "metadata": {},
          "execution_count": 5
        }
      ]
    },
    {
      "cell_type": "markdown",
      "source": [
        "Here 2. is a shorthand used for floating numbers."
      ],
      "metadata": {
        "id": "GELwP0Id07EV"
      }
    },
    {
      "cell_type": "markdown",
      "source": [
        "Let's find out the type of tensor"
      ],
      "metadata": {
        "id": "yweyt_TC1DLc"
      }
    },
    {
      "cell_type": "code",
      "source": [
        "t.dtype"
      ],
      "metadata": {
        "colab": {
          "base_uri": "https://localhost:8080/"
        },
        "id": "utgrq0j30nQV",
        "outputId": "47da752a-9f82-4c88-f83a-74036bc1c24b"
      },
      "execution_count": 6,
      "outputs": [
        {
          "output_type": "execute_result",
          "data": {
            "text/plain": [
              "torch.float32"
            ]
          },
          "metadata": {},
          "execution_count": 6
        }
      ]
    },
    {
      "cell_type": "markdown",
      "source": [
        "# 1. **Creare a vector tensor**"
      ],
      "metadata": {
        "id": "sclxM4YG1Vdd"
      }
    },
    {
      "cell_type": "code",
      "source": [
        "t= torch.tensor([1,2,3,4.])\n",
        "t"
      ],
      "metadata": {
        "colab": {
          "base_uri": "https://localhost:8080/"
        },
        "id": "6VAuS46o1PP9",
        "outputId": "3aa152d2-ac01-4275-b9ac-db3a2ef56939"
      },
      "execution_count": 7,
      "outputs": [
        {
          "output_type": "execute_result",
          "data": {
            "text/plain": [
              "tensor([1., 2., 3., 4.])"
            ]
          },
          "metadata": {},
          "execution_count": 7
        }
      ]
    },
    {
      "cell_type": "markdown",
      "source": [
        "# **2. Create a matrix tensor**"
      ],
      "metadata": {
        "id": "umO11umf1k-Q"
      }
    },
    {
      "cell_type": "code",
      "source": [
        "t= torch.tensor([[1,2],[3,4]])\n",
        "print (t)\n",
        "print (t.dtype)"
      ],
      "metadata": {
        "colab": {
          "base_uri": "https://localhost:8080/"
        },
        "id": "0SFViX1Q1i-f",
        "outputId": "2e817763-d805-480f-85c7-bebff187e4ae"
      },
      "execution_count": 13,
      "outputs": [
        {
          "output_type": "stream",
          "name": "stdout",
          "text": [
            "tensor([[1, 2],\n",
            "        [3, 4]])\n",
            "torch.int64\n"
          ]
        }
      ]
    },
    {
      "cell_type": "markdown",
      "source": [
        "# **3. Create three dimentional array**"
      ],
      "metadata": {
        "id": "kIZJwW2H2reX"
      }
    },
    {
      "cell_type": "code",
      "source": [
        "t=torch.tensor([\n",
        "    [\n",
        "      [1,2,3],\n",
        "      [4,5,6]\n",
        "    ],\n",
        "    [\n",
        "        [7,8,9],\n",
        "        [10,11,12]\n",
        "    ]\n",
        "])\n",
        "\n",
        "print (t)"
      ],
      "metadata": {
        "colab": {
          "base_uri": "https://localhost:8080/"
        },
        "id": "eHTENRPr21v-",
        "outputId": "01724102-ab2a-45fd-ae7b-7538822a10c7"
      },
      "execution_count": 17,
      "outputs": [
        {
          "output_type": "stream",
          "name": "stdout",
          "text": [
            "tensor([[[ 1,  2,  3],\n",
            "         [ 4,  5,  6]],\n",
            "\n",
            "        [[ 7,  8,  9],\n",
            "         [10, 11, 12]]])\n"
          ]
        }
      ]
    },
    {
      "cell_type": "markdown",
      "source": [
        "# **4. print shape of tensor**"
      ],
      "metadata": {
        "id": "pppx2nGW5V0q"
      }
    },
    {
      "cell_type": "code",
      "source": [
        "print (t.shape)\n"
      ],
      "metadata": {
        "id": "rq2wHCJc5bx-",
        "outputId": "735949f6-107a-450b-e363-bd509d62d9aa",
        "colab": {
          "base_uri": "https://localhost:8080/"
        }
      },
      "execution_count": 21,
      "outputs": [
        {
          "output_type": "stream",
          "name": "stdout",
          "text": [
            "torch.Size([2, 2, 3])\n"
          ]
        }
      ]
    },
    {
      "cell_type": "markdown",
      "source": [
        "# **5. Tensor operations and gradients**"
      ],
      "metadata": {
        "id": "seDN-uS_5-dH"
      }
    },
    {
      "cell_type": "code",
      "source": [
        "# Create a tensor\n",
        "t1 = torch.tensor(2.)\n",
        "w1 = torch.tensor(1.,requires_grad=True)\n",
        "t2 = torch.tensor([1.,2])"
      ],
      "metadata": {
        "id": "JUZHLFka5fNu"
      },
      "execution_count": 37,
      "outputs": []
    },
    {
      "cell_type": "markdown",
      "source": [
        "# **5.1. Apply arithmetic operations**"
      ],
      "metadata": {
        "id": "HluWhYYs626F"
      }
    },
    {
      "cell_type": "code",
      "source": [
        "x = t1 * t2\n",
        "print (x)\n",
        "\n",
        "y = x * w + t2\n",
        "print (y)"
      ],
      "metadata": {
        "id": "I2dRsTeu6aIn",
        "outputId": "5bec10fb-6d39-4eeb-ead9-0fca05f6efbe",
        "colab": {
          "base_uri": "https://localhost:8080/"
        }
      },
      "execution_count": 27,
      "outputs": [
        {
          "output_type": "stream",
          "name": "stdout",
          "text": [
            "tensor([2, 4])\n",
            "tensor([3., 6.], grad_fn=<AddBackward0>)\n"
          ]
        }
      ]
    },
    {
      "cell_type": "code",
      "source": [
        "z = t1 + t2\n",
        "z"
      ],
      "metadata": {
        "id": "66R89tsm7Iwo",
        "outputId": "7453f80a-de76-4162-efea-c86cdcfebeca",
        "colab": {
          "base_uri": "https://localhost:8080/"
        }
      },
      "execution_count": 28,
      "outputs": [
        {
          "output_type": "execute_result",
          "data": {
            "text/plain": [
              "tensor([3, 4])"
            ]
          },
          "metadata": {},
          "execution_count": 28
        }
      ]
    },
    {
      "cell_type": "markdown",
      "source": [
        "# **5.2. Compute  derivative of w**"
      ],
      "metadata": {
        "id": "rPKCSHl0704M"
      }
    },
    {
      "cell_type": "code",
      "source": [
        "x = torch.tensor (t1*t1, requires_grad=True)"
      ],
      "metadata": {
        "id": "1nov1JSV8w1g",
        "outputId": "e28afcb7-8923-420d-edec-d26c999c821d",
        "colab": {
          "base_uri": "https://localhost:8080/"
        }
      },
      "execution_count": 38,
      "outputs": [
        {
          "output_type": "stream",
          "name": "stderr",
          "text": [
            "<ipython-input-38-8550ad53f505>:1: UserWarning: To copy construct from a tensor, it is recommended to use sourceTensor.clone().detach() or sourceTensor.clone().detach().requires_grad_(True), rather than torch.tensor(sourceTensor).\n",
            "  x = torch.tensor (t1*t1, requires_grad=True)\n"
          ]
        }
      ]
    },
    {
      "cell_type": "code",
      "source": [
        "y = w * x + 1\n",
        "y"
      ],
      "metadata": {
        "id": "9_BAOTwt7nKq",
        "outputId": "8f481a07-6b7c-45d0-88d3-a61a8d8dd1b9",
        "colab": {
          "base_uri": "https://localhost:8080/"
        }
      },
      "execution_count": 39,
      "outputs": [
        {
          "output_type": "execute_result",
          "data": {
            "text/plain": [
              "tensor(5., grad_fn=<AddBackward0>)"
            ]
          },
          "metadata": {},
          "execution_count": 39
        }
      ]
    },
    {
      "cell_type": "code",
      "source": [
        "y.backward()"
      ],
      "metadata": {
        "id": "Gr-fQrSM8EpB"
      },
      "execution_count": 40,
      "outputs": []
    },
    {
      "cell_type": "code",
      "source": [],
      "metadata": {
        "id": "SRk-uCCQ8Wc-"
      },
      "execution_count": null,
      "outputs": []
    }
  ]
}