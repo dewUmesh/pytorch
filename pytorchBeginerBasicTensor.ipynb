{
  "nbformat": 4,
  "nbformat_minor": 0,
  "metadata": {
    "colab": {
      "provenance": [],
      "authorship_tag": "ABX9TyPC396u52j1VDbZ8QuGhORC",
      "include_colab_link": true
    },
    "kernelspec": {
      "name": "python3",
      "display_name": "Python 3"
    },
    "language_info": {
      "name": "python"
    }
  },
  "cells": [
    {
      "cell_type": "markdown",
      "metadata": {
        "id": "view-in-github",
        "colab_type": "text"
      },
      "source": [
        "<a href=\"https://colab.research.google.com/github/dewUmesh/pytorch/blob/main/pytorchBeginerBasicTensor.ipynb\" target=\"_parent\"><img src=\"https://colab.research.google.com/assets/colab-badge.svg\" alt=\"Open In Colab\"/></a>"
      ]
    },
    {
      "cell_type": "markdown",
      "source": [
        "PyTorch Basics: Tensors & Gradients\n",
        "Part 1 of \"Pytorch: Zero to GANs\"\n",
        "\n",
        "This post is the first in a series of tutorials on building deep learning models with PyTorch, an open source neural networks library developed and maintained by Facebook. Check out the full series:\n",
        "\n",
        "    PyTorch Basics: Tensors & Gradients\n",
        "    Linear Regression & Gradient Descent\n",
        "    Image Classfication using Logistic Regression\n",
        "    Training Deep Neural Networks on a GPU\n",
        "    Image Classification using Convolutional Neural Networks\n",
        "    Data Augmentation, Regularization and ResNets\n",
        "    Generating Images using Generative Adverserial Networks\n",
        "\n",
        "This series attempts to make PyTorch a bit more approachable for people starting out with deep learning and neural networks. In this notebook, we’ll cover the basic building blocks of PyTorch models: tensors and gradients."
      ],
      "metadata": {
        "id": "AdTnP-74zF7z"
      }
    },
    {
      "cell_type": "code",
      "execution_count": 1,
      "metadata": {
        "id": "yUxRCyK1yxR8"
      },
      "outputs": [],
      "source": [
        "import torch"
      ]
    },
    {
      "cell_type": "code",
      "source": [],
      "metadata": {
        "id": "HhO10jF5yzmQ"
      },
      "execution_count": null,
      "outputs": []
    }
  ]
}