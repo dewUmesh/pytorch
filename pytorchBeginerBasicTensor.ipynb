{
  "nbformat": 4,
  "nbformat_minor": 0,
  "metadata": {
    "colab": {
      "provenance": [],
      "authorship_tag": "ABX9TyO+3fni5ugpEP8UsR8dYdhe",
      "include_colab_link": true
    },
    "kernelspec": {
      "name": "python3",
      "display_name": "Python 3"
    },
    "language_info": {
      "name": "python"
    }
  },
  "cells": [
    {
      "cell_type": "markdown",
      "metadata": {
        "id": "view-in-github",
        "colab_type": "text"
      },
      "source": [
        "<a href=\"https://colab.research.google.com/github/dewUmesh/pytorch/blob/main/pytorchBeginerBasicTensor.ipynb\" target=\"_parent\"><img src=\"https://colab.research.google.com/assets/colab-badge.svg\" alt=\"Open In Colab\"/></a>"
      ]
    },
    {
      "cell_type": "markdown",
      "source": [
        "PyTorch Basics: Tensors & Gradients\n",
        "Part 1 of \"Pytorch: Zero to GANs\"\n",
        "\n",
        "This post is the first in a series of tutorials on building deep learning models with PyTorch, an open source neural networks library developed and maintained by Facebook. Check out the full series:\n",
        "\n",
        "    PyTorch Basics: Tensors & Gradients\n",
        "    Linear Regression & Gradient Descent\n",
        "    Image Classfication using Logistic Regression\n",
        "    Training Deep Neural Networks on a GPU\n",
        "    Image Classification using Convolutional Neural Networks\n",
        "    Data Augmentation, Regularization and ResNets\n",
        "    Generating Images using Generative Adverserial Networks\n",
        "\n",
        "This series attempts to make PyTorch a bit more approachable for people starting out with deep learning and neural networks. In this notebook, we’ll cover the basic building blocks of PyTorch models: tensors and gradients."
      ],
      "metadata": {
        "id": "AdTnP-74zF7z"
      }
    },
    {
      "cell_type": "code",
      "execution_count": 2,
      "metadata": {
        "id": "yUxRCyK1yxR8"
      },
      "outputs": [],
      "source": [
        "import torch"
      ]
    },
    {
      "cell_type": "markdown",
      "source": [
        "PyTorch is a library for processing tensors.\n",
        "Tensors is number, vector, matrix or an n-dimentional array.\n",
        "\n",
        "Create a tensor with single number"
      ],
      "metadata": {
        "id": "JuX5t1Sc0JIM"
      }
    },
    {
      "cell_type": "code",
      "source": [
        "t=torch.tensor(2.)\n",
        "t"
      ],
      "metadata": {
        "id": "HHw3H3kl0deD",
        "outputId": "654a52b8-2461-4c84-ef26-9e9cf402f9dd",
        "colab": {
          "base_uri": "https://localhost:8080/"
        }
      },
      "execution_count": 5,
      "outputs": [
        {
          "output_type": "execute_result",
          "data": {
            "text/plain": [
              "tensor(2.)"
            ]
          },
          "metadata": {},
          "execution_count": 5
        }
      ]
    },
    {
      "cell_type": "markdown",
      "source": [
        "Here 2. is a shorthand used for floating numbers."
      ],
      "metadata": {
        "id": "GELwP0Id07EV"
      }
    },
    {
      "cell_type": "markdown",
      "source": [
        "Let's find out the type of tensor"
      ],
      "metadata": {
        "id": "yweyt_TC1DLc"
      }
    },
    {
      "cell_type": "code",
      "source": [
        "t.dtype"
      ],
      "metadata": {
        "id": "utgrq0j30nQV",
        "outputId": "47da752a-9f82-4c88-f83a-74036bc1c24b",
        "colab": {
          "base_uri": "https://localhost:8080/"
        }
      },
      "execution_count": 6,
      "outputs": [
        {
          "output_type": "execute_result",
          "data": {
            "text/plain": [
              "torch.float32"
            ]
          },
          "metadata": {},
          "execution_count": 6
        }
      ]
    },
    {
      "cell_type": "markdown",
      "source": [
        "# 1. **Creare a vector tensor**"
      ],
      "metadata": {
        "id": "sclxM4YG1Vdd"
      }
    },
    {
      "cell_type": "code",
      "source": [
        "t= torch.tensor([1,2,3,4.])\n",
        "t"
      ],
      "metadata": {
        "id": "6VAuS46o1PP9",
        "outputId": "3aa152d2-ac01-4275-b9ac-db3a2ef56939",
        "colab": {
          "base_uri": "https://localhost:8080/"
        }
      },
      "execution_count": 7,
      "outputs": [
        {
          "output_type": "execute_result",
          "data": {
            "text/plain": [
              "tensor([1., 2., 3., 4.])"
            ]
          },
          "metadata": {},
          "execution_count": 7
        }
      ]
    },
    {
      "cell_type": "markdown",
      "source": [
        "# **2. Create a matrix tensor**"
      ],
      "metadata": {
        "id": "umO11umf1k-Q"
      }
    },
    {
      "cell_type": "code",
      "source": [
        "t= torch.tensor([[1,2],[3,4]])\n",
        "print (t)\n",
        "print (t.dtype)"
      ],
      "metadata": {
        "id": "0SFViX1Q1i-f",
        "outputId": "2e817763-d805-480f-85c7-bebff187e4ae",
        "colab": {
          "base_uri": "https://localhost:8080/"
        }
      },
      "execution_count": 13,
      "outputs": [
        {
          "output_type": "stream",
          "name": "stdout",
          "text": [
            "tensor([[1, 2],\n",
            "        [3, 4]])\n",
            "torch.int64\n"
          ]
        }
      ]
    },
    {
      "cell_type": "markdown",
      "source": [
        "# **3. Create three dimentional array**"
      ],
      "metadata": {
        "id": "kIZJwW2H2reX"
      }
    },
    {
      "cell_type": "code",
      "source": [
        "t=torch.tensor([\n",
        "    [\n",
        "      [1,2,3],\n",
        "      [4,5,6]\n",
        "    ],\n",
        "    [\n",
        "        [7,8,9],\n",
        "        [10,11,12]\n",
        "    ]\n",
        "])\n",
        "\n",
        "print (t)"
      ],
      "metadata": {
        "id": "eHTENRPr21v-",
        "outputId": "01724102-ab2a-45fd-ae7b-7538822a10c7",
        "colab": {
          "base_uri": "https://localhost:8080/"
        }
      },
      "execution_count": 17,
      "outputs": [
        {
          "output_type": "stream",
          "name": "stdout",
          "text": [
            "tensor([[[ 1,  2,  3],\n",
            "         [ 4,  5,  6]],\n",
            "\n",
            "        [[ 7,  8,  9],\n",
            "         [10, 11, 12]]])\n"
          ]
        }
      ]
    },
    {
      "cell_type": "code",
      "source": [],
      "metadata": {
        "id": "mhWoB_TJ3FJo"
      },
      "execution_count": null,
      "outputs": []
    }
  ]
}