{
  "nbformat": 4,
  "nbformat_minor": 0,
  "metadata": {
    "colab": {
      "provenance": [],
      "authorship_tag": "ABX9TyN73bMEWyxzLo29MCGXaN+L",
      "include_colab_link": true
    },
    "kernelspec": {
      "name": "python3",
      "display_name": "Python 3"
    },
    "language_info": {
      "name": "python"
    }
  },
  "cells": [
    {
      "cell_type": "markdown",
      "metadata": {
        "id": "view-in-github",
        "colab_type": "text"
      },
      "source": [
        "<a href=\"https://colab.research.google.com/github/dewUmesh/pytorch/blob/main/pytorchBeginerBasicTensor.ipynb\" target=\"_parent\"><img src=\"https://colab.research.google.com/assets/colab-badge.svg\" alt=\"Open In Colab\"/></a>"
      ]
    },
    {
      "cell_type": "markdown",
      "source": [
        "PyTorch Basics: Tensors & Gradients\n",
        "Part 1 of \"Pytorch: Zero to GANs\"\n",
        "\n",
        "This post is the first in a series of tutorials on building deep learning models with PyTorch, an open source neural networks library developed and maintained by Facebook. Check out the full series:\n",
        "\n",
        "    PyTorch Basics: Tensors & Gradients\n",
        "    Linear Regression & Gradient Descent\n",
        "    Image Classfication using Logistic Regression\n",
        "    Training Deep Neural Networks on a GPU\n",
        "    Image Classification using Convolutional Neural Networks\n",
        "    Data Augmentation, Regularization and ResNets\n",
        "    Generating Images using Generative Adverserial Networks\n",
        "\n",
        "This series attempts to make PyTorch a bit more approachable for people starting out with deep learning and neural networks. In this notebook, we’ll cover the basic building blocks of PyTorch models: tensors and gradients."
      ],
      "metadata": {
        "id": "AdTnP-74zF7z"
      }
    },
    {
      "cell_type": "code",
      "execution_count": 2,
      "metadata": {
        "id": "yUxRCyK1yxR8"
      },
      "outputs": [],
      "source": [
        "import torch"
      ]
    },
    {
      "cell_type": "markdown",
      "source": [
        "PyTorch is a library for processing tensors.\n",
        "Tensors is number, vector, matrix or an n-dimentional array.\n",
        "\n",
        "Create a tensor with single number"
      ],
      "metadata": {
        "id": "JuX5t1Sc0JIM"
      }
    },
    {
      "cell_type": "code",
      "source": [
        "t=torch.tensor(2.)\n",
        "t"
      ],
      "metadata": {
        "colab": {
          "base_uri": "https://localhost:8080/"
        },
        "id": "HHw3H3kl0deD",
        "outputId": "654a52b8-2461-4c84-ef26-9e9cf402f9dd"
      },
      "execution_count": 5,
      "outputs": [
        {
          "output_type": "execute_result",
          "data": {
            "text/plain": [
              "tensor(2.)"
            ]
          },
          "metadata": {},
          "execution_count": 5
        }
      ]
    },
    {
      "cell_type": "markdown",
      "source": [
        "Here 2. is a shorthand used for floating numbers."
      ],
      "metadata": {
        "id": "GELwP0Id07EV"
      }
    },
    {
      "cell_type": "markdown",
      "source": [
        "Let's find out the type of tensor"
      ],
      "metadata": {
        "id": "yweyt_TC1DLc"
      }
    },
    {
      "cell_type": "code",
      "source": [
        "t.dtype"
      ],
      "metadata": {
        "colab": {
          "base_uri": "https://localhost:8080/"
        },
        "id": "utgrq0j30nQV",
        "outputId": "47da752a-9f82-4c88-f83a-74036bc1c24b"
      },
      "execution_count": 6,
      "outputs": [
        {
          "output_type": "execute_result",
          "data": {
            "text/plain": [
              "torch.float32"
            ]
          },
          "metadata": {},
          "execution_count": 6
        }
      ]
    },
    {
      "cell_type": "markdown",
      "source": [
        "# 1. **Creare a vector tensor**"
      ],
      "metadata": {
        "id": "sclxM4YG1Vdd"
      }
    },
    {
      "cell_type": "code",
      "source": [
        "t= torch.tensor([1,2,3,4.])\n",
        "t"
      ],
      "metadata": {
        "colab": {
          "base_uri": "https://localhost:8080/"
        },
        "id": "6VAuS46o1PP9",
        "outputId": "3aa152d2-ac01-4275-b9ac-db3a2ef56939"
      },
      "execution_count": 7,
      "outputs": [
        {
          "output_type": "execute_result",
          "data": {
            "text/plain": [
              "tensor([1., 2., 3., 4.])"
            ]
          },
          "metadata": {},
          "execution_count": 7
        }
      ]
    },
    {
      "cell_type": "markdown",
      "source": [
        "# **2. Create a matrix tensor**"
      ],
      "metadata": {
        "id": "umO11umf1k-Q"
      }
    },
    {
      "cell_type": "code",
      "source": [
        "t= torch.tensor([[1,2],[3,4]])\n",
        "print (t)\n",
        "print (t.dtype)"
      ],
      "metadata": {
        "colab": {
          "base_uri": "https://localhost:8080/"
        },
        "id": "0SFViX1Q1i-f",
        "outputId": "2e817763-d805-480f-85c7-bebff187e4ae"
      },
      "execution_count": 13,
      "outputs": [
        {
          "output_type": "stream",
          "name": "stdout",
          "text": [
            "tensor([[1, 2],\n",
            "        [3, 4]])\n",
            "torch.int64\n"
          ]
        }
      ]
    },
    {
      "cell_type": "markdown",
      "source": [
        "# **3. Create three dimentional array**"
      ],
      "metadata": {
        "id": "kIZJwW2H2reX"
      }
    },
    {
      "cell_type": "code",
      "source": [
        "t=torch.tensor([\n",
        "    [\n",
        "      [1,2,3],\n",
        "      [4,5,6]\n",
        "    ],\n",
        "    [\n",
        "        [7,8,9],\n",
        "        [10,11,12]\n",
        "    ]\n",
        "])\n",
        "\n",
        "print (t)"
      ],
      "metadata": {
        "colab": {
          "base_uri": "https://localhost:8080/"
        },
        "id": "eHTENRPr21v-",
        "outputId": "01724102-ab2a-45fd-ae7b-7538822a10c7"
      },
      "execution_count": 17,
      "outputs": [
        {
          "output_type": "stream",
          "name": "stdout",
          "text": [
            "tensor([[[ 1,  2,  3],\n",
            "         [ 4,  5,  6]],\n",
            "\n",
            "        [[ 7,  8,  9],\n",
            "         [10, 11, 12]]])\n"
          ]
        }
      ]
    },
    {
      "cell_type": "markdown",
      "source": [
        "# **4. print shape of tensor**"
      ],
      "metadata": {
        "id": "pppx2nGW5V0q"
      }
    },
    {
      "cell_type": "code",
      "source": [
        "print (t.shape)\n"
      ],
      "metadata": {
        "colab": {
          "base_uri": "https://localhost:8080/"
        },
        "id": "rq2wHCJc5bx-",
        "outputId": "735949f6-107a-450b-e363-bd509d62d9aa"
      },
      "execution_count": 21,
      "outputs": [
        {
          "output_type": "stream",
          "name": "stdout",
          "text": [
            "torch.Size([2, 2, 3])\n"
          ]
        }
      ]
    },
    {
      "cell_type": "markdown",
      "source": [
        "# **5. Tensor operations and gradients**"
      ],
      "metadata": {
        "id": "seDN-uS_5-dH"
      }
    },
    {
      "cell_type": "code",
      "source": [
        "# Create a tensor\n",
        "t1 = torch.tensor(2.)\n",
        "w1 = torch.tensor(1.,requires_grad=True)\n",
        "t2 = torch.tensor([1.,2])"
      ],
      "metadata": {
        "id": "JUZHLFka5fNu"
      },
      "execution_count": 37,
      "outputs": []
    },
    {
      "cell_type": "markdown",
      "source": [
        "# **5.1. Apply arithmetic operations**"
      ],
      "metadata": {
        "id": "HluWhYYs626F"
      }
    },
    {
      "cell_type": "code",
      "source": [
        "x = t1 * t2\n",
        "print (x)\n",
        "\n",
        "y = x * w + t2\n",
        "print (y)"
      ],
      "metadata": {
        "colab": {
          "base_uri": "https://localhost:8080/"
        },
        "id": "I2dRsTeu6aIn",
        "outputId": "5bec10fb-6d39-4eeb-ead9-0fca05f6efbe"
      },
      "execution_count": 27,
      "outputs": [
        {
          "output_type": "stream",
          "name": "stdout",
          "text": [
            "tensor([2, 4])\n",
            "tensor([3., 6.], grad_fn=<AddBackward0>)\n"
          ]
        }
      ]
    },
    {
      "cell_type": "code",
      "source": [
        "z = t1 + t2\n",
        "z"
      ],
      "metadata": {
        "colab": {
          "base_uri": "https://localhost:8080/"
        },
        "id": "66R89tsm7Iwo",
        "outputId": "7453f80a-de76-4162-efea-c86cdcfebeca"
      },
      "execution_count": 28,
      "outputs": [
        {
          "output_type": "execute_result",
          "data": {
            "text/plain": [
              "tensor([3, 4])"
            ]
          },
          "metadata": {},
          "execution_count": 28
        }
      ]
    },
    {
      "cell_type": "markdown",
      "source": [
        "# **5.2. Compute  derivative of w**"
      ],
      "metadata": {
        "id": "rPKCSHl0704M"
      }
    },
    {
      "cell_type": "code",
      "source": [
        "x = torch.tensor (t1*t1, requires_grad=True)"
      ],
      "metadata": {
        "colab": {
          "base_uri": "https://localhost:8080/"
        },
        "id": "1nov1JSV8w1g",
        "outputId": "e28afcb7-8923-420d-edec-d26c999c821d"
      },
      "execution_count": 38,
      "outputs": [
        {
          "output_type": "stream",
          "name": "stderr",
          "text": [
            "<ipython-input-38-8550ad53f505>:1: UserWarning: To copy construct from a tensor, it is recommended to use sourceTensor.clone().detach() or sourceTensor.clone().detach().requires_grad_(True), rather than torch.tensor(sourceTensor).\n",
            "  x = torch.tensor (t1*t1, requires_grad=True)\n"
          ]
        }
      ]
    },
    {
      "cell_type": "code",
      "source": [
        "y = w * x + 1\n",
        "y"
      ],
      "metadata": {
        "colab": {
          "base_uri": "https://localhost:8080/"
        },
        "id": "9_BAOTwt7nKq",
        "outputId": "8f481a07-6b7c-45d0-88d3-a61a8d8dd1b9"
      },
      "execution_count": 39,
      "outputs": [
        {
          "output_type": "execute_result",
          "data": {
            "text/plain": [
              "tensor(5., grad_fn=<AddBackward0>)"
            ]
          },
          "metadata": {},
          "execution_count": 39
        }
      ]
    },
    {
      "cell_type": "code",
      "source": [
        "y.backward()"
      ],
      "metadata": {
        "id": "Gr-fQrSM8EpB"
      },
      "execution_count": 40,
      "outputs": []
    },
    {
      "cell_type": "code",
      "source": [],
      "metadata": {
        "id": "SRk-uCCQ8Wc-"
      },
      "execution_count": null,
      "outputs": []
    },
    {
      "cell_type": "markdown",
      "source": [
        "# **6. Interoperability with numpy**"
      ],
      "metadata": {
        "id": "qz9-TEuO9Xm_"
      }
    },
    {
      "cell_type": "code",
      "source": [
        "# Create a numpy array\n",
        "import numpy as np"
      ],
      "metadata": {
        "id": "Ca15R5bQ9dvB"
      },
      "execution_count": 41,
      "outputs": []
    },
    {
      "cell_type": "code",
      "source": [
        "x = np.array([\n",
        "             [1,2],\n",
        "             [3,4]\n",
        "             ])\n",
        "print (x)"
      ],
      "metadata": {
        "colab": {
          "base_uri": "https://localhost:8080/"
        },
        "id": "h0b9_rLq9lr7",
        "outputId": "3bd9e316-13f3-44d6-f926-ee4d9ae7964c"
      },
      "execution_count": 43,
      "outputs": [
        {
          "output_type": "stream",
          "name": "stdout",
          "text": [
            "[[1 2]\n",
            " [3 4]]\n"
          ]
        }
      ]
    },
    {
      "cell_type": "code",
      "source": [
        "# Convert to tesnsor\n",
        "y = torch.from_numpy(x)\n",
        "print (y)"
      ],
      "metadata": {
        "colab": {
          "base_uri": "https://localhost:8080/"
        },
        "id": "qo41xQAC99rI",
        "outputId": "0b36d460-fa96-414a-ac03-3ae67bfcef1e"
      },
      "execution_count": 44,
      "outputs": [
        {
          "output_type": "stream",
          "name": "stdout",
          "text": [
            "tensor([[1, 2],\n",
            "        [3, 4]])\n"
          ]
        }
      ]
    },
    {
      "cell_type": "code",
      "source": [
        "# Convert tensor to numpy array\n",
        "z = y.numpy()\n",
        "print (z)"
      ],
      "metadata": {
        "colab": {
          "base_uri": "https://localhost:8080/"
        },
        "id": "4mXYIQZi-MVI",
        "outputId": "1569bc33-3b9e-4b54-b806-04cc4f4122cf"
      },
      "execution_count": 46,
      "outputs": [
        {
          "output_type": "stream",
          "name": "stdout",
          "text": [
            "[[1 2]\n",
            " [3 4]]\n"
          ]
        }
      ]
    },
    {
      "cell_type": "markdown",
      "source": [
        "# **Linear regression**"
      ],
      "metadata": {
        "id": "pjAJc5WNXwOT"
      }
    },
    {
      "cell_type": "markdown",
      "source": [
        "**Business problem:**\n",
        "\n",
        "  *Predict crop **yields** for apple and oranges  temp,rainfall,humidity **input features** in a region.*\n",
        "\n",
        "**Linear equation:**\n",
        "\n",
        "  yield_apple  = w11 * temp + w12 * rainfall + w13 * humidity + b1\n",
        "\n",
        "  yield_orange = w21 * temp + w22 * rainfall + w23 * humidity + b2\n",
        "  "
      ],
      "metadata": {
        "id": "LFOIMefPcN_C"
      }
    },
    {
      "cell_type": "code",
      "source": [
        "import numpy as np\n",
        "import torch"
      ],
      "metadata": {
        "id": "qUOwzrBAX5wO"
      },
      "execution_count": 47,
      "outputs": []
    },
    {
      "cell_type": "code",
      "source": [
        "# sample input data\n",
        "# temp, rainfall,humidity\n",
        "input = np.array(\n",
        "    [\n",
        "        [1,2,3],\n",
        "        [4,5,6],\n",
        "        [7,8,9]\n",
        "    ], dtype='float32'\n",
        ")\n",
        "\n",
        "targets = np.array(\n",
        "    [\n",
        "        [10,20],\n",
        "        [30,40],\n",
        "        [50,60]\n",
        "    ], dtype='float32'\n",
        "\n",
        ")"
      ],
      "metadata": {
        "id": "2jRZ0xaSX9Fb"
      },
      "execution_count": 50,
      "outputs": []
    },
    {
      "cell_type": "markdown",
      "source": [
        "Tech Requirement\n",
        "\n",
        "1.   Input matrix   \n",
        "2.   Model\n",
        "3.   Loss fucntion\n",
        "4.   Optimizer\n",
        "\n"
      ],
      "metadata": {
        "id": "iw-pccMnZi1W"
      }
    },
    {
      "cell_type": "code",
      "source": [
        "# Comvert input and target to tensor\n",
        "input_tensor = torch.from_numpy(input)\n",
        "target_tensor = torch.from_numpy(targets)"
      ],
      "metadata": {
        "id": "Wj4teyklY5ah"
      },
      "execution_count": 67,
      "outputs": []
    },
    {
      "cell_type": "markdown",
      "source": [
        "**Define weights and bias tensor**"
      ],
      "metadata": {
        "id": "XQy16Jasaxm6"
      }
    },
    {
      "cell_type": "code",
      "source": [
        "w = torch.rand(3,2,requires_grad=True)\n",
        "b = torch.rand(2, requires_grad=True)\n",
        "\n",
        "print (w)\n",
        "print (b)"
      ],
      "metadata": {
        "id": "TcdEFEOzaqKI",
        "outputId": "c94d8765-1cef-4e39-970d-5e44d28d3421",
        "colab": {
          "base_uri": "https://localhost:8080/"
        }
      },
      "execution_count": 68,
      "outputs": [
        {
          "output_type": "stream",
          "name": "stdout",
          "text": [
            "tensor([[0.3419, 0.3965],\n",
            "        [0.7626, 0.0654],\n",
            "        [0.5707, 0.5896]], requires_grad=True)\n",
            "tensor([0.3082, 0.8876], requires_grad=True)\n"
          ]
        }
      ]
    },
    {
      "cell_type": "markdown",
      "source": [
        "# **Matrix multiplication : @**"
      ],
      "metadata": {
        "id": "Ero8nv5oQyKt"
      }
    },
    {
      "cell_type": "markdown",
      "source": [
        "**define a model function**\n",
        "\n",
        "Matrix return would be a **prediction**"
      ],
      "metadata": {
        "id": "A6ETytcMRIS8"
      }
    },
    {
      "cell_type": "code",
      "source": [
        "def model(input_matrix ):\n",
        "  return input_matrix @ w + b"
      ],
      "metadata": {
        "id": "G0Gg1vkHbyjV"
      },
      "execution_count": 69,
      "outputs": []
    },
    {
      "cell_type": "markdown",
      "source": [],
      "metadata": {
        "id": "J7jaB-17RyTX"
      }
    },
    {
      "cell_type": "code",
      "source": [
        "prediction = model (input_tensor)\n",
        "\n",
        "print (prediction)"
      ],
      "metadata": {
        "id": "nIkrEKq9Ro9M",
        "outputId": "5818658a-21bd-452a-bb04-38ef7119a542",
        "colab": {
          "base_uri": "https://localhost:8080/"
        }
      },
      "execution_count": 70,
      "outputs": [
        {
          "output_type": "stream",
          "name": "stdout",
          "text": [
            "tensor([[ 3.8872,  3.1837],\n",
            "        [ 8.9126,  6.3382],\n",
            "        [13.9379,  9.4926]], grad_fn=<AddBackward0>)\n"
          ]
        }
      ]
    },
    {
      "cell_type": "markdown",
      "source": [
        "# **Loss funtion : MSE**"
      ],
      "metadata": {
        "id": "4XqyRbvDVdbW"
      }
    },
    {
      "cell_type": "code",
      "source": [
        "def mse(prediction,target):\n",
        "  diff = prediction - target\n",
        "  return torch.sum(diff * diff) / diff.numel()"
      ],
      "metadata": {
        "id": "Br9Vr6jESKdn"
      },
      "execution_count": 71,
      "outputs": []
    },
    {
      "cell_type": "code",
      "source": [
        "# calculate loss\n",
        "loss = mse(prediction,target_tensor)\n",
        "print (loss)"
      ],
      "metadata": {
        "id": "cGVX7ToCWOxn",
        "outputId": "343034c5-fc40-487f-bd95-db9a8d668c0f",
        "colab": {
          "base_uri": "https://localhost:8080/"
        }
      },
      "execution_count": 72,
      "outputs": [
        {
          "output_type": "stream",
          "name": "stdout",
          "text": [
            "tensor(958.2366, grad_fn=<DivBackward0>)\n"
          ]
        }
      ]
    },
    {
      "cell_type": "markdown",
      "source": [
        "# **Compute change : gradient **"
      ],
      "metadata": {
        "id": "Gmoiahw6WgP9"
      }
    },
    {
      "cell_type": "code",
      "source": [
        "loss.backward()"
      ],
      "metadata": {
        "id": "hr0U4NUHWcgW"
      },
      "execution_count": 73,
      "outputs": []
    },
    {
      "cell_type": "code",
      "source": [
        "w.grad"
      ],
      "metadata": {
        "id": "ahucmiVJWtSj",
        "outputId": "40643779-c2f5-49f3-c2cc-6ecb5978b046",
        "colab": {
          "base_uri": "https://localhost:8080/"
        }
      },
      "execution_count": 74,
      "outputs": [
        {
          "output_type": "execute_result",
          "data": {
            "text/plain": [
              "tensor([[-114.2991, -168.3384],\n",
              "        [-135.3865, -202.0002],\n",
              "        [-156.4740, -235.6620]])"
            ]
          },
          "metadata": {},
          "execution_count": 74
        }
      ]
    },
    {
      "cell_type": "code",
      "source": [
        "with torch.no_grad():\n",
        "  w = w - w.grad * 1e-5\n",
        "  b = b - b.grad * 1e-5"
      ],
      "metadata": {
        "id": "0Lk6vohVW_94"
      },
      "execution_count": 75,
      "outputs": []
    },
    {
      "cell_type": "code",
      "source": [
        "loss = mse(prediction,target_tensor)\n",
        "print (loss)"
      ],
      "metadata": {
        "id": "wsugPNirXYWN",
        "outputId": "f83cd887-8283-4654-f7df-33858439c5c1",
        "colab": {
          "base_uri": "https://localhost:8080/"
        }
      },
      "execution_count": 76,
      "outputs": [
        {
          "output_type": "stream",
          "name": "stdout",
          "text": [
            "tensor(958.2366, grad_fn=<DivBackward0>)\n"
          ]
        }
      ]
    },
    {
      "cell_type": "markdown",
      "source": [
        "# **Important **\n",
        "\n",
        "**Make grad to 0 **"
      ],
      "metadata": {
        "id": "YDl4PYmoXyF-"
      }
    },
    {
      "cell_type": "code",
      "source": [
        "w.zero_()\n",
        "b.grad.zero_()\n",
        "\n"
      ],
      "metadata": {
        "id": "dTRErJyeXjRJ",
        "outputId": "c07b1d4d-548f-48a1-822c-9733f32b5856",
        "colab": {
          "base_uri": "https://localhost:8080/",
          "height": 242
        }
      },
      "execution_count": 83,
      "outputs": [
        {
          "output_type": "error",
          "ename": "AttributeError",
          "evalue": "ignored",
          "traceback": [
            "\u001b[0;31m---------------------------------------------------------------------------\u001b[0m",
            "\u001b[0;31mAttributeError\u001b[0m                            Traceback (most recent call last)",
            "\u001b[0;32m<ipython-input-83-ee4f0e86b64a>\u001b[0m in \u001b[0;36m<cell line: 1>\u001b[0;34m()\u001b[0m\n\u001b[0;32m----> 1\u001b[0;31m \u001b[0mw\u001b[0m\u001b[0;34m.\u001b[0m\u001b[0mzero_grad\u001b[0m\u001b[0;34m(\u001b[0m\u001b[0;34m)\u001b[0m\u001b[0;34m\u001b[0m\u001b[0;34m\u001b[0m\u001b[0m\n\u001b[0m\u001b[1;32m      2\u001b[0m \u001b[0mb\u001b[0m\u001b[0;34m.\u001b[0m\u001b[0mgrad\u001b[0m\u001b[0;34m.\u001b[0m\u001b[0mzero_\u001b[0m\u001b[0;34m(\u001b[0m\u001b[0;34m)\u001b[0m\u001b[0;34m\u001b[0m\u001b[0;34m\u001b[0m\u001b[0m\n\u001b[1;32m      3\u001b[0m \u001b[0;34m\u001b[0m\u001b[0m\n",
            "\u001b[0;31mAttributeError\u001b[0m: 'Tensor' object has no attribute 'zero_grad'"
          ]
        }
      ]
    },
    {
      "cell_type": "code",
      "source": [
        "print (w.grad)\n",
        "print (b.grad)"
      ],
      "metadata": {
        "id": "yidpfbkeYKzO",
        "outputId": "5f75a4e3-e3c7-4e8c-df5a-d879aa4e6364",
        "colab": {
          "base_uri": "https://localhost:8080/"
        }
      },
      "execution_count": 81,
      "outputs": [
        {
          "output_type": "stream",
          "name": "stdout",
          "text": [
            "None\n",
            "None\n"
          ]
        }
      ]
    },
    {
      "cell_type": "code",
      "source": [],
      "metadata": {
        "id": "rbX0fQA3Y-JX"
      },
      "execution_count": null,
      "outputs": []
    }
  ]
}